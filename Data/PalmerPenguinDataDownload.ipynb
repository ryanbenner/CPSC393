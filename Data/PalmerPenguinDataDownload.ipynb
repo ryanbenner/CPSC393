{
 "cells": [
  {
   "cell_type": "code",
   "execution_count": 3,
   "metadata": {},
   "outputs": [],
   "source": [
    "import pandas as pd\n",
    "import numpy as np\n",
    "\n",
    "# adapted from palmerpenguins package in R \n",
    "#   Horst AM, Hill AP, Gorman KB (2020). palmerpenguins: Palmer\n",
    "#   Archipelago (Antarctica) penguin data. R package version 0.1.0.\n",
    "#   https://allisonhorst.github.io/palmerpenguins/. doi:\n",
    "#   10.5281/zenodo.3960218."
   ]
  },
  {
   "cell_type": "code",
   "execution_count": 4,
   "metadata": {},
   "outputs": [],
   "source": [
    "# Adelie penguin data from: https://doi.org/10.6073/pasta/abc50eed9138b75f54eaada0841b9b86\n",
    "uri_adelie = \"https://portal.edirepository.org/nis/dataviewer?packageid=knb-lter-pal.219.3&entityid=002f3893385f710df69eeebe893144ff\"\n",
    "\n",
    "# Gentoo penguin data from: https://doi.org/10.6073/pasta/2b1cff60f81640f182433d23e68541ce\n",
    "uri_gentoo = \"https://portal.edirepository.org/nis/dataviewer?packageid=knb-lter-pal.220.3&entityid=e03b43c924f226486f2f0ab6709d2381\"\n",
    "\n",
    "# Chinstrap penguin data from: https://doi.org/10.6073/pasta/409c808f8fc9899d02401bdb04580af7\n",
    "uri_chinstrap = \"https://portal.edirepository.org/nis/dataviewer?packageid=knb-lter-pal.221.2&entityid=fe853aa8f7a59aa84cdd3197619ef462\"\n",
    "\n",
    "# Combining the URIs\n",
    "uris = [uri_adelie, uri_gentoo, uri_chinstrap]\n",
    "\n",
    "# Downloading and importing data\n",
    "penguins_raw_adelie = pd.read_csv(uri_adelie, na_values = [\"\", \"NA\", \".\", \"NaN\"])\n",
    "penguins_raw_gentoo = pd.read_csv(uri_gentoo, na_values = [\"\", \"NA\", \".\", \"NaN\"])\n",
    "penguins_raw_chinstrap = pd.read_csv(uri_chinstrap, na_values = [\"\", \"NA\", \".\", \"NaN\"])\n",
    "\n",
    "# Combine data frames\n",
    "penguins_raw_df = pd.concat([penguins_raw_adelie, penguins_raw_gentoo, penguins_raw_chinstrap])\n"
   ]
  },
  {
   "cell_type": "code",
   "execution_count": 5,
   "metadata": {},
   "outputs": [],
   "source": [
    "# Make column names lowercase\n",
    "penguins_raw_df.columns = [x.lower() for x in penguins_raw_df.columns]\n",
    "\n",
    "# Get shortened version of Species\n",
    "penguins_raw_df[\"species_short\"] = [x.split(\" \")[0] for x in penguins_raw_df[\"species\"]]\n",
    "\n",
    "# Make sex values lowercase\n",
    "penguins_raw_df[\"sex\"] = [x.lower() if isinstance(x, str) else x for x in penguins_raw_df[\"sex\"]]\n",
    "\n",
    "# Turn date into datetime\n",
    "penguins_raw_df[\"date egg\"] = pd.to_datetime(penguins_raw_df[\"date egg\"])\n",
    "\n",
    "# Grab just year from date\n",
    "penguins_raw_df[\"year\"] = pd.DatetimeIndex(penguins_raw_df['date egg']).year"
   ]
  },
  {
   "cell_type": "code",
   "execution_count": 6,
   "metadata": {},
   "outputs": [],
   "source": [
    "# Select only columns of interest\n",
    "penguins_df = penguins_raw_df[[\"species_short\", \"island\", \"culmen length (mm)\",\n",
    "                              \"culmen depth (mm)\", \"flipper length (mm)\", \"body mass (g)\",\n",
    "                              \"sex\", \"year\"]]\n",
    "\n",
    "# Rename columns: species short --> species, culmen --> bill\n",
    "penguins_df.columns = [\"species\", \"island\", \"bill_length_mm\",\n",
    "                              \"bill_depth_mm\", \"flipper_length_mm\", \"body_mass_g\",\n",
    "                              \"sex\", \"year\"]\n",
    "\n",
    "# Write to csv in current directory\n",
    "\n",
    "penguins_df.to_csv(\"penguins.csv\")"
   ]
  },
  {
   "cell_type": "code",
   "execution_count": null,
   "metadata": {},
   "outputs": [],
   "source": []
  }
 ],
 "metadata": {
  "kernelspec": {
   "display_name": "Python 3",
   "language": "python",
   "name": "python3"
  },
  "language_info": {
   "codemirror_mode": {
    "name": "ipython",
    "version": 3
   },
   "file_extension": ".py",
   "mimetype": "text/x-python",
   "name": "python",
   "nbconvert_exporter": "python",
   "pygments_lexer": "ipython3",
   "version": "3.8.1"
  }
 },
 "nbformat": 4,
 "nbformat_minor": 4
}
